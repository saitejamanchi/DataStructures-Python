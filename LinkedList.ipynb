{
 "cells": [
  {
   "cell_type": "code",
   "execution_count": 1,
   "id": "23e01352",
   "metadata": {},
   "outputs": [],
   "source": [
    "class LinkedList():\n",
    "    def __init__(self, val = None):\n",
    "        \"\"\"Initializes the linked list(either empty or with a single node)\"\"\"\n",
    "        if not val:\n",
    "            self.head = None\n",
    "            return\n",
    "        self.head = Node(val)\n",
    "    \n",
    "    def add(self, val):\n",
    "        \"\"\"This method adds a new node(with given value) at the end of the linked list\"\"\"\n",
    "        if not self.head:\n",
    "            self.head = Node(val)\n",
    "            return\n",
    "        curr = self.head\n",
    "        while curr.next:\n",
    "            curr = curr.next\n",
    "        curr.next = Node(val)\n",
    "\n",
    "    def print(self):\n",
    "        \"\"\"prints contents of the linked list\"\"\"\n",
    "        curr = self.head\n",
    "        while curr:\n",
    "            print(curr.value, \" -> \", end=\"\")\n",
    "            curr = curr.next\n",
    "        print(\"NULL\")\n",
    "    \n",
    "    def pop(self):\n",
    "        \"\"\"To pop the last element of the linked list\"\"\"\n",
    "        if not(self.head and self.head.next):\n",
    "            popped_val = self.head.value\n",
    "            self.head = None\n",
    "            return popped_val\n",
    "        \n",
    "        prev, curr = self.head, self.head.next\n",
    "        while curr.next:\n",
    "            prev = curr\n",
    "            curr = curr.next\n",
    "        \n",
    "        prev.next = None\n",
    "        return curr.value\n",
    "        \n",
    "    def insert(self, pos, val):\n",
    "        \"\"\"To insert a given value at the given position in the linked list.\n",
    "           If the position is out of the linked list it appends at the end.\"\"\"\n",
    "        curr_ind, curr = 0, self.head\n",
    "        \n",
    "        while(curr_ind < pos - 2):\n",
    "            if not curr.next:\n",
    "                break\n",
    "            curr = curr.next\n",
    "            curr_ind += 1\n",
    "        \n",
    "        new_node = Node(val, curr.next)\n",
    "        curr.next = new_node\n",
    "        \n",
    "            \n",
    "class Node():\n",
    "    \"\"\"This class defines a node within a Linked list.\n",
    "    This has two variables one for storing the value and other one points to another Node\"\"\"\n",
    "    def __init__(self, val, next=None):\n",
    "        self.value = val\n",
    "        self.next = next\n"
   ]
  },
  {
   "cell_type": "code",
   "execution_count": 2,
   "id": "9a5e726c",
   "metadata": {},
   "outputs": [
    {
     "name": "stdout",
     "output_type": "stream",
     "text": [
      "5  -> 3  -> NULL\n",
      "Popped: 3\n",
      "Popped: 5\n",
      "NULL\n",
      "2  -> 4  -> 5  -> NULL\n",
      "2  -> 3  -> 4  -> 5  -> NULL\n"
     ]
    }
   ],
   "source": [
    "#Creating an empty Linked List\n",
    "l1 = LinkedList()\n",
    "\n",
    "#Added 5 and 3 to the list\n",
    "l1.add(5)\n",
    "l1.add(3)\n",
    "l1.print()\n",
    "\n",
    "#popping both the elements\n",
    "print(\"Popped:\", l1.pop())\n",
    "print(\"Popped:\", l1.pop())\n",
    "l1.print()\n",
    "\n",
    "#Adding 3 elements to the list\n",
    "l1.add(2)\n",
    "l1.add(4)\n",
    "l1.add(5)\n",
    "l1.print()\n",
    "\n",
    "#inserting a new elements in the 2nd position\n",
    "l1.insert(2, 3)\n",
    "l1.print()"
   ]
  },
  {
   "cell_type": "code",
   "execution_count": null,
   "id": "512bec17",
   "metadata": {},
   "outputs": [],
   "source": []
  }
 ],
 "metadata": {
  "kernelspec": {
   "display_name": "Python 3 (ipykernel)",
   "language": "python",
   "name": "python3"
  },
  "language_info": {
   "codemirror_mode": {
    "name": "ipython",
    "version": 3
   },
   "file_extension": ".py",
   "mimetype": "text/x-python",
   "name": "python",
   "nbconvert_exporter": "python",
   "pygments_lexer": "ipython3",
   "version": "3.9.13"
  }
 },
 "nbformat": 4,
 "nbformat_minor": 5
}
